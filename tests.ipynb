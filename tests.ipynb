{
 "cells": [
  {
   "cell_type": "code",
   "execution_count": 39,
   "metadata": {},
   "outputs": [],
   "source": [
    "from src.journalfeed.LaTeX import *\n",
    "from src.journalfeed.config import load_config\n",
    "import src.journalfeed.arxiv as arxiv\n",
    "import src.journalfeed.nature as nature\n",
    "import src.journalfeed.science as science\n",
    "import src.journalfeed.aps as aps\n",
    "import datetime\n",
    "\n",
    "# sources, _filter, preamble = load_config()\n",
    "get_arxivarticles = arxiv.get_articles\n",
    "def arxiv_summary(aid, el=True):\n",
    "    return arxiv.get_articles(query=\"\", id_list=aid, ensure_latex=el)[0].summary\n",
    "\n",
    "# enddate = datetime.date.today()\n",
    "# timedelta = datetime.timedelta(days=7)\n",
    "# startdate = enddate - timedelta\n",
    "# naturearticles = nature.get_articles(journals=sources[\"nature\"][\"weekly\"],)"
   ]
  },
  {
   "cell_type": "code",
   "execution_count": 55,
   "metadata": {},
   "outputs": [
    {
     "name": "stdout",
     "output_type": "stream",
     "text": [
      "Loading local config \"filter.json\".\n"
     ]
    },
    {
     "data": {
      "text/plain": [
       "False"
      ]
     },
     "execution_count": 55,
     "metadata": {},
     "output_type": "execute_result"
    }
   ],
   "source": [
    "sources, _filter, preamble = load_config()\n",
    "# get_arxivarticles(query=\"\", id_list=\"2111.04167v1\", ensure_latex=False)[0].match(*_filter)\n",
    "journals, authors, title_res, summary_res = _filter\n",
    "get_arxivarticles(query=\"\", id_list=\"2111.04167v1\", ensure_latex=False)[0].match(*_filter)"
   ]
  },
  {
   "cell_type": "code",
   "execution_count": 9,
   "metadata": {},
   "outputs": [
    {
     "data": {
      "text/plain": [
       "14"
      ]
     },
     "execution_count": 9,
     "metadata": {},
     "output_type": "execute_result"
    }
   ],
   "source": [
    "enddate = datetime.date(2021, 11, 4)\n",
    "timedelta = datetime.timedelta(days=7)\n",
    "startdate = enddate - timedelta\n",
    "\n",
    "sciencearticles = science.get_articles(journals=sources[\"science\"][\"weekly\"],\n",
    "                                       enddate=enddate, startdate=startdate)\n",
    "len(sciencearticles)"
   ]
  },
  {
   "cell_type": "code",
   "execution_count": 10,
   "metadata": {},
   "outputs": [
    {
     "data": {
      "text/plain": [
       "'In Other Journals'"
      ]
     },
     "execution_count": 10,
     "metadata": {},
     "output_type": "execute_result"
    }
   ],
   "source": [
    "sciencearticles[1].title"
   ]
  },
  {
   "cell_type": "code",
   "execution_count": 31,
   "metadata": {},
   "outputs": [
    {
     "data": {
      "text/plain": [
       "'\\\\\\\\textbf\\\\{\\\\}'"
      ]
     },
     "execution_count": 31,
     "metadata": {},
     "output_type": "execute_result"
    }
   ],
   "source": [
    "import re\n",
    "re.escape(\"\\\\textbf{}\")"
   ]
  },
  {
   "cell_type": "code",
   "execution_count": 33,
   "metadata": {},
   "outputs": [
    {
     "data": {
      "text/plain": [
       "'\\\\{\\\\}'"
      ]
     },
     "execution_count": 33,
     "metadata": {},
     "output_type": "execute_result"
    }
   ],
   "source": [
    "re.escape(\"{}\")"
   ]
  }
 ],
 "metadata": {
  "kernelspec": {
   "display_name": "Python 3",
   "language": "python",
   "name": "python3"
  },
  "language_info": {
   "codemirror_mode": {
    "name": "ipython",
    "version": 3
   },
   "file_extension": ".py",
   "mimetype": "text/x-python",
   "name": "python",
   "nbconvert_exporter": "python",
   "pygments_lexer": "ipython3",
   "version": "3.8.6"
  }
 },
 "nbformat": 4,
 "nbformat_minor": 4
}
