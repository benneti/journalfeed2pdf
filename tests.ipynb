{
 "cells": [
  {
   "cell_type": "code",
   "execution_count": 1,
   "metadata": {},
   "outputs": [],
   "source": [
    "from src.journalfeed.LaTeX import *\n",
    "from src.journalfeed.config import load_config\n",
    "import src.journalfeed.arxiv as arxiv\n",
    "import src.journalfeed.nature as nature\n",
    "import src.journalfeed.science as science\n",
    "import src.journalfeed.aps as aps\n",
    "import datetime\n",
    "\n",
    "get_arxivarticles = arxiv.get_articles"
   ]
  },
  {
   "cell_type": "code",
   "execution_count": 2,
   "metadata": {},
   "outputs": [
    {
     "data": {
      "text/plain": [
       "'Curly braces not balanced in inline math.'"
      ]
     },
     "execution_count": 2,
     "metadata": {},
     "output_type": "execute_result"
    }
   ],
   "source": [
    "get_arxivarticles(query=\"\", id_list=\"2206.03707v1\", ensure_latex=True)[0].summary"
   ]
  },
  {
   "cell_type": "code",
   "execution_count": 5,
   "metadata": {},
   "outputs": [
    {
     "data": {
      "text/plain": [
       "'Realizing and tuning novel electronic states is of great interest and\\nimportance to modern condensed-matter physics and spintronics applications.\\nTransition-metal-based kagome materials are a rich frontier for the\\ninvestigation of novel topological electronic states and correlated phenomena.\\nThe divergent density of states in the kagome lattice due to van Hove\\nsingularities (VHSs) in the vicinity of the Fermi level (${E${\\\\_F}$}$)\\nalso provide an ideal playground for the search of exotic correlated quantum\\nstates on a kagome lattice. However, in the idealized two-dimensional kagome\\nlattice, topologically non-trivial Dirac surface states (TDSSs) have not been\\nunambiguously observed, and the manipulation of TDSSs and VHSs remains largely\\nunexplored. Here, combining angle-resolved photoemission spectroscopy with\\ndensity functional theory calculations, we clearly reveal TDSSs originating\\nfrom a Z${_2}$ bulk topology for the first time in kagome lattices and identify\\ntwo types of VHSs near ${E${\\\\_F}$}$ in a newly discovered magnetic kagome\\nmaterial, GdV${_6}$Sn${_6}$. Remarkably, using ${in situ}$ surface\\npotassium deposition to elevate carrier density, we successfully realize\\nmanipulation of the TDSSs and VHSs. The Dirac point of the TDSSs can be tuned\\nfrom above to below ${E${\\\\_F}$}$, which reverses the chirality of the\\nspin texture at the Fermi surface. These results not only establish\\nGdV${_6}$Sn${_6}$ as a fascinating platform for studying the nontrivial band\\ntopology, magnetism and correlation effects native to kagome lattices, but also\\nopen up a new avenue for the potential application of spintronic devices based\\non kagome materials.'"
      ]
     },
     "execution_count": 5,
     "metadata": {},
     "output_type": "execute_result"
    }
   ],
   "source": [
    "get_arxivarticles(query=\"\", id_list=\"2205.15927v1\", ensure_latex=True)[0].summary"
   ]
  },
  {
   "cell_type": "code",
   "execution_count": 2,
   "metadata": {},
   "outputs": [
    {
     "data": {
      "text/plain": [
       "True"
      ]
     },
     "execution_count": 2,
     "metadata": {},
     "output_type": "execute_result"
    }
   ],
   "source": [
    "# check whether escaped dollar signs are treated correct\n",
    "get_arxivarticles(query=\"\", id_list=\"2205.04441v1\", ensure_latex=True)[0].summary.count(\"\\\\$\") == get_arxivarticles(query=\"\", id_list=\"2205.04441v1\", ensure_latex=False)[0].summary.count(\"\\\\$\")"
   ]
  },
  {
   "cell_type": "code",
   "execution_count": 3,
   "metadata": {},
   "outputs": [
    {
     "data": {
      "text/plain": [
       "False"
      ]
     },
     "execution_count": 3,
     "metadata": {},
     "output_type": "execute_result"
    }
   ],
   "source": [
    "sources, _filter, preamble = load_config()\n",
    "# get_arxivarticles(query=\"\", id_list=\"2111.04167v1\", ensure_latex=False)[0].match(*_filter)\n",
    "journals, authors, title_res, summary_res = _filter\n",
    "get_arxivarticles(query=\"\", id_list=\"2111.04167v1\", ensure_latex=False)[0].match(*_filter)"
   ]
  },
  {
   "cell_type": "code",
   "execution_count": 6,
   "metadata": {},
   "outputs": [
    {
     "data": {
      "text/plain": [
       "True"
      ]
     },
     "execution_count": 6,
     "metadata": {},
     "output_type": "execute_result"
    }
   ],
   "source": [
    "\"{\\\\mathbb C}\" in get_arxivarticles(query=\"\", id_list=\"2204.13104v1\", ensure_latex=True)[0].summary"
   ]
  },
  {
   "cell_type": "code",
   "execution_count": 7,
   "metadata": {},
   "outputs": [
    {
     "data": {
      "text/plain": [
       "19"
      ]
     },
     "execution_count": 7,
     "metadata": {},
     "output_type": "execute_result"
    }
   ],
   "source": [
    "enddate = datetime.date(2021, 11, 4)\n",
    "timedelta = datetime.timedelta(days=7)\n",
    "startdate = enddate - timedelta\n",
    "\n",
    "sciencearticles = science.get_articles(journals=sources[\"science\"][\"weekly\"],\n",
    "                                       enddate=enddate, startdate=startdate)\n",
    "len(sciencearticles)"
   ]
  },
  {
   "cell_type": "code",
   "execution_count": 8,
   "metadata": {},
   "outputs": [
    {
     "data": {
      "text/plain": [
       "'In Other Journals'"
      ]
     },
     "execution_count": 8,
     "metadata": {},
     "output_type": "execute_result"
    }
   ],
   "source": [
    "sciencearticles[1].title"
   ]
  },
  {
   "cell_type": "code",
   "execution_count": 9,
   "metadata": {},
   "outputs": [
    {
     "data": {
      "text/plain": [
       "'BiFeO$_{3}$ is multiferroic material with space group Pbnm exhibits coupling\\nof both magnetic and electric orders under strain force. To analyze band gap\\nTauc plot extrapolation method is used $\\\\&$ remarkably smaller than some\\nreported literature values for space group R3c structure. The dielectric\\nfunction $\\\\varepsilon(\\\\omega)$ demonstrated that light energy upon transition\\nthrough BiFeO$_{3}$ has shown a decline inconsistent pattern with index of\\nrefraction variation in range of 13 to 8, 8 to 5, 5 to 3, $\\\\&$ 3 to 1 as per\\nphoton energy. Moreover, non crossing degenerate energy level and hybridized\\nspin-orbit interaction lead to linear dispersion relation which is typical\\nphotonic nature with zero DM interaction. Thus, BiFeO$_{3}$ could exhibit\\nphotonic property under strain force. Generally strained structure had enhanced\\nphotovoltaic effect with smaller optical band gap because of\\n$Dzyaloshinskii$-$Moriya(DM)$ and spin-orbit coupling interactions.'"
      ]
     },
     "execution_count": 9,
     "metadata": {},
     "output_type": "execute_result"
    }
   ],
   "source": [
    "articles = get_arxivarticles(query=\"\", id_list=\"2103.02194v1\", ensure_latex=False)\n",
    "articles[0].summary\n",
    "# TODO fix %\\n in here"
   ]
  },
  {
   "cell_type": "code",
   "execution_count": 10,
   "metadata": {},
   "outputs": [
    {
     "data": {
      "text/plain": [
       "True"
      ]
     },
     "execution_count": 10,
     "metadata": {},
     "output_type": "execute_result"
    }
   ],
   "source": [
    "articles = get_arxivarticles(query=\"\", id_list=\"2106.00624v1\", ensure_latex=True)\n",
    "articles[0].summary == 'Curly braces not balanced.'"
   ]
  },
  {
   "cell_type": "code",
   "execution_count": null,
   "metadata": {},
   "outputs": [],
   "source": []
  },
  {
   "cell_type": "code",
   "execution_count": null,
   "metadata": {},
   "outputs": [],
   "source": []
  },
  {
   "cell_type": "code",
   "execution_count": 11,
   "metadata": {},
   "outputs": [
    {
     "data": {
      "text/plain": [
       "'We consider momentum dependence of static magnetic susceptibility of\\nHeisenberg magnets within nonlinear sigma model in arbitrary dimension $2<d<4$\\nto first order of $1/N$ expansion, where $N$ is the number of spin components.\\nWe show that the momentum dependence of the susceptibility in paramagnetic\\nphase has the form $\\\\chi(q)\\\\propto[q^{2}+\\\\xi ^{-2}(1+f(q\\\\xi ))]^{-1+\\\\eta /2}$\\nwhere $\\\\xi $ is the correlation length, $q$ is the momenum, measured from\\nmagnetic wave vector, and the universal function $f(x)\\\\propto 1/N$ describes\\ndeviation from the standard Landau-Ginzburg momentum dependence. At large $x$\\nwe find $f(x\\\\gg 1)\\\\simeq (2B_{4}/N)x^{4-d}$ (apart from the trivial quadratic\\nin $x$ term), for $d=3$ the coefficient $B_{4}=-2/\\\\pi $. We obtain the\\ncontribution of the \"anomalous\" term $\\\\xi^{-2}f(q\\\\xi )$ to the critical\\nexponent $\\\\nu $, comparing it to the contribution of the non-analytical\\ndependence, originating from the presence of the critical exponent $\\\\eta $ (the\\nobtained critical exponents $\\\\nu $ and $\\\\eta $ agree with previous studies). In\\nthe range $3\\\\leq d<4$ we find that the former contribution dominates, and fully\\ndetermines $1/N$ correction to the critical exponent $\\\\nu $ in the limit $\\\\% darrow 4.$'"
      ]
     },
     "execution_count": 11,
     "metadata": {},
     "output_type": "execute_result"
    }
   ],
   "source": [
    "articles = get_arxivarticles(query=\"\", id_list=\"2012.11853v1\", ensure_latex=True)\n",
    "articles[0].summary\n",
    "# TODO fix %\\n in here"
   ]
  },
  {
   "cell_type": "code",
   "execution_count": 12,
   "metadata": {},
   "outputs": [
    {
     "data": {
      "text/plain": [
       "True"
      ]
     },
     "execution_count": 12,
     "metadata": {},
     "output_type": "execute_result"
    }
   ],
   "source": [
    "articles = get_arxivarticles(query=\"\", id_list=\"2012.05392v1\", ensure_latex=True)\n",
    "\"$T_{\\\\mathrm{N1}}$\" in articles[0].summary"
   ]
  },
  {
   "cell_type": "code",
   "execution_count": 13,
   "metadata": {},
   "outputs": [
    {
     "data": {
      "text/plain": [
       "True"
      ]
     },
     "execution_count": 13,
     "metadata": {},
     "output_type": "execute_result"
    }
   ],
   "source": [
    "articles = get_arxivarticles(query=\"\", id_list=\"2012.05930v1\", ensure_latex=True)\n",
    "\"$\\\\frac{J_z}{J_{\\\\perp}}=-\\\\frac{1}{2}$\" in articles[0].summary"
   ]
  },
  {
   "cell_type": "code",
   "execution_count": 14,
   "metadata": {},
   "outputs": [
    {
     "data": {
      "text/plain": [
       "True"
      ]
     },
     "execution_count": 14,
     "metadata": {},
     "output_type": "execute_result"
    }
   ],
   "source": [
    "articles = get_arxivarticles(query=\"\", id_list=\"2010.15264\")\n",
    "\"\\\\cdot \\\\text\" in articles[0].summary"
   ]
  },
  {
   "cell_type": "code",
   "execution_count": 10,
   "metadata": {},
   "outputs": [],
   "source": [
    "# from bs4 import BeautifulSoup  # used to get rid of HTML stuff\n",
    "# prarticles = get_prarticles(journals = [\"prb\"], ensure_latex=False)"
   ]
  },
  {
   "cell_type": "code",
   "execution_count": 15,
   "metadata": {},
   "outputs": [
    {
     "data": {
      "text/plain": [
       "True"
      ]
     },
     "execution_count": 15,
     "metadata": {},
     "output_type": "execute_result"
    }
   ],
   "source": [
    "s = \"\"\"We present a theory for quantum impurity relaxometry of magnons in thin films, exhibiting quantitative agreement with recent experiments without needing arbitrary scale factors used in theoretical models thus far. Our theory reveals that chiral coupling between prototypical $\\\\text{spin}&gt;1/2$ quan...\"\"\"\n",
    "\" $\\\\text{spin}>1/2$\" in elc(s)"
   ]
  },
  {
   "cell_type": "code",
   "execution_count": 16,
   "metadata": {},
   "outputs": [
    {
     "data": {
      "text/plain": [
       "'$\\\\alpha$-CoV$_{2}$O$_{6}$ consists of $j_{\\\\mathrm{eff}}={1 \\\\over 2}$ Ising\\nspins located on an anisotropic triangular motif with magnetization plateaus in\\nan applied field. We combine neutron diffraction with low temperature\\nmagnetization to investigate the magnetic periodicity in the vicinity of these\\nplateaus. We find these steps to be characterized by metastable and spatially\\nshort-range ($\\\\xi\\\\sim$ 10 $\\\\r{A}$) magnetic correlations with antiphase\\nboundaries defining a local periodicity of $\\\\langle \\\\hat{T}^{2} \\\\rangle =\\\\\\n\\\\uparrow \\\\downarrow$ to $\\\\langle \\\\hat{T}^{3} \\\\rangle =\\\\ \\\\uparrow \\\\uparrow\\n\\\\downarrow$, and $\\\\langle \\\\hat{T}^{4} \\\\rangle=\\\\ \\\\uparrow \\\\uparrow \\\\downarrow\\n\\\\downarrow$ or $\\\\uparrow \\\\uparrow \\\\uparrow \\\\downarrow$ spin arrangements. This\\nshows the presence of spatially short range and metastable/hysteretic,\\ncommensurate magnetism in Ising magnetization steps.'"
      ]
     },
     "execution_count": 16,
     "metadata": {},
     "output_type": "execute_result"
    }
   ],
   "source": [
    "articles = get_arxivarticles(query=\"\", id_list=\"2010.14097\", ensure_latex=False)\n",
    "articles[0].summary"
   ]
  },
  {
   "cell_type": "code",
   "execution_count": 17,
   "metadata": {},
   "outputs": [
    {
     "data": {
      "text/plain": [
       "11"
      ]
     },
     "execution_count": 17,
     "metadata": {},
     "output_type": "execute_result"
    }
   ],
   "source": [
    "ret = articles[0].summary\n",
    "len(re.findall(\"\\\\{\", ret))\n",
    "len(re.findall(\"\\\\}\", ret))\n",
    "len(re.findall(re.compile(\"\\\\{[^\\\\}]*\\\\}\", flags=re.DOTALL), ret))"
   ]
  },
  {
   "cell_type": "code",
   "execution_count": 18,
   "metadata": {},
   "outputs": [
    {
     "data": {
      "text/plain": [
       "True"
      ]
     },
     "execution_count": 18,
     "metadata": {},
     "output_type": "execute_result"
    }
   ],
   "source": [
    "articles = get_arxivarticles(query=\"\", id_list=\"2010.15589v1\")\n",
    "\"\\\\lambda=\" in articles[0].summary and \"\\\\hbar \\\\omega\" in articles[0].summary and \"\\\\mathbf{r}\" in articles[0].summary"
   ]
  },
  {
   "cell_type": "code",
   "execution_count": 19,
   "metadata": {},
   "outputs": [
    {
     "data": {
      "text/plain": [
       "True"
      ]
     },
     "execution_count": 19,
     "metadata": {},
     "output_type": "execute_result"
    }
   ],
   "source": [
    "articles = get_arxivarticles(query=\"\", id_list=\"2011.03015v1\")\n",
    "\"\\\\simeq 152\" in articles[0].summary"
   ]
  },
  {
   "cell_type": "code",
   "execution_count": 20,
   "metadata": {},
   "outputs": [
    {
     "data": {
      "text/plain": [
       "True"
      ]
     },
     "execution_count": 20,
     "metadata": {},
     "output_type": "execute_result"
    }
   ],
   "source": [
    "articles = get_arxivarticles(query=\"\", id_list=\"2011.02114v1\")\n",
    "\"\\\\mathcal{PT}\" in articles[0].summary"
   ]
  },
  {
   "cell_type": "code",
   "execution_count": 21,
   "metadata": {},
   "outputs": [
    {
     "data": {
      "text/plain": [
       "True"
      ]
     },
     "execution_count": 21,
     "metadata": {},
     "output_type": "execute_result"
    }
   ],
   "source": [
    "articles = get_arxivarticles(query=\"\", id_list=\"2011.01389v1\")\n",
    "\"${M}{N}$\" in articles[0].title"
   ]
  },
  {
   "cell_type": "code",
   "execution_count": 22,
   "metadata": {},
   "outputs": [
    {
     "data": {
      "text/plain": [
       "'Soon after its theoretical prediction, striped-density states in the presence\\nof synthetic spin-orbit coupling have been realized in Bose-Einstein\\ncondensates of ultracold, neutral atoms. The achievement opens up new avenues\\nto explore the interplay of superfluidity and crystalline order in the search\\nfor supersolid features and materials. The system considered is essentially\\nmade of two linearly coupled Bose-Einstein condensates, that is a\\npseudo-spin-$1/2$ system, subject to a spin-dependent gauge field $\\\\sigma_z\\n\\\\hbar k_\\\\ell$. Under these conditions the stripe phase is achieved when the\\nlinear coupling $\\\\hbar\\\\Omega/2$ is small against the gauge energy\\n$m\\\\Omega/\\\\hbar k_\\\\ell^2<1$. The resulting density stripes have been interpreted\\nas a standing-wave, interference pattern with approximate wavenumber $2k_\\\\ell$.\\nHere, we show that the emergence of the stripe phase is induced by an array of\\nJosephson vortices living in the junction defined by the linear coupling. As\\nhappens in superconducting junctions subject to external magnetic fields, a\\nvortex array is the natural response of the superfluid system to the presence\\nof a gauge field. Also similarly to superconductors, the Josephson currents and\\ntheir associated vortices can be present as a metastable state in the absence\\nof gauge field. We provide closed-form solutions to the 1D mean field equations\\nthat account for such vortex arrays. The underlying Josephson currents coincide\\nwith the analytical solutions to the sine-Gordon equation for the relative\\nphase of superconducting junctions. Additionally, we introduce new\\nstriped-density states that do not rely on particle currents, and are built\\nupon staggered arrays of bright solitons, despite the repulsive interatomic\\ninteractions.'"
      ]
     },
     "execution_count": 22,
     "metadata": {},
     "output_type": "execute_result"
    }
   ],
   "source": [
    "articles = get_arxivarticles(query=\"\", id_list=\"2011.00478v1\", ensure_latex=False)\n",
    "articles[0].summary"
   ]
  },
  {
   "cell_type": "code",
   "execution_count": 23,
   "metadata": {},
   "outputs": [
    {
     "data": {
      "text/plain": [
       "\"High fidelity two-qubit gates are fundamental for scaling up the\\nsuperconducting number. We use two qubits coupled via a frequency-tunable\\ncoupler which can adjust the coupling strength, and demonstrate the CZ gate\\nusing two different schemes, adiabatic and diadiabatic methods. The Clifford\\nbased Randomized Benchmarking (RB) method is used to assess and optimize the CZ\\ngate fidelity. The fidelity of adiabatic and diadiabatic CZ gates are 99.53(8)\\\\%\\nand 98.72(2)\\\\%, respectively. We also analyze the errors induced by the\\ndecoherence. Comparing to 30 ns duration time of adiabatic CZ gate, the\\nduration time of diadiabatic CZ gate is 19 ns, revealing lower incoherence\\nerror rate $r'_{rm{incoherent, int}}$ = 0.0197(5) than $r_{rm{incoherent, int}}$ = 0.0223(3).\""
      ]
     },
     "execution_count": 23,
     "metadata": {},
     "output_type": "execute_result"
    }
   ],
   "source": [
    "articles = get_arxivarticles(query=\"\", id_list=\"2010.14053v3\")\n",
    "articles[0].summary"
   ]
  },
  {
   "cell_type": "code",
   "execution_count": 24,
   "metadata": {},
   "outputs": [
    {
     "data": {
      "text/plain": [
       "True"
      ]
     },
     "execution_count": 24,
     "metadata": {},
     "output_type": "execute_result"
    }
   ],
   "source": [
    "articles = get_arxivarticles(query=\"\", id_list=\"2011.00478v1\")\n",
    "\"m\\\\Omega /\\\\hbar\" in articles[0].summary and \"k_{\\\\ell}^2\" in articles[0].summary"
   ]
  },
  {
   "cell_type": "code",
   "execution_count": 25,
   "metadata": {},
   "outputs": [
    {
     "data": {
      "text/plain": [
       "'We consider homological edge percolation on a sequence $(\\\\mathcal{G}_t)_t$ of\\nfinite graphs covered by an infinite (quasi)transitive graph $\\\\mathcal{H}$, and\\nweakly convergent to $\\\\mathcal{H}$. Namely, we use the covering maps to\\nclassify $1$-cycles on graphs $\\\\mathcal{G}_t$ as homologically trivial or\\nnon-trivial, and define several thresholds associated with the rank of thus\\ndefined first homology group on the open subgraphs. We identify the growth of\\nthe homological distance $d_t$, the smallest size of a non-trivial cycle on\\n$\\\\mathcal{G}_t$, as the main factor determining the location of\\nhomology-changing thresholds. In particular, we show that the giant cycle\\nerasure threshold $p_E^0$ (related to the conventional erasure threshold for\\nthe corresponding sequence of generalized toric codes) coincides with the edge\\npercolation threshold $p_{rm c}(\\\\mathcal{H})$ if the ratio $d_t/\\\\ln n_t$\\ndiverges, where $n_t$ is the number of edges of $\\\\mathcal{G}_t$, and we give\\nevidence that $p_E^0<p_{rm c}(\\\\mathcal{H})$ in several cases where this ratio\\nremains bounded, which is necessarily the case if $\\\\mathcal{H}$ is\\nnon-amenable.'"
      ]
     },
     "execution_count": 25,
     "metadata": {},
     "output_type": "execute_result"
    }
   ],
   "source": [
    "articles = get_arxivarticles(query=\"\", id_list=\"2011.02603v1\")\n",
    "articles[0].summary"
   ]
  },
  {
   "cell_type": "code",
   "execution_count": 26,
   "metadata": {},
   "outputs": [
    {
     "data": {
      "text/plain": [
       "'We consider homological edge percolation on a sequence $(\\\\mathcal{G}_t)_t$ of\\nfinite graphs covered by an infinite (quasi)transitive graph $\\\\mathcal{H}$, and\\nweakly convergent to $\\\\mathcal{H}$. Namely, we use the covering maps to\\nclassify $1$-cycles on graphs $\\\\mathcal{G}_t$ as homologically trivial or\\nnon-trivial, and define several thresholds associated with the rank of thus\\ndefined first homology group on the open subgraphs. We identify the growth of\\nthe homological distance $d_t$, the smallest size of a non-trivial cycle on\\n$\\\\mathcal{G}_t$, as the main factor determining the location of\\nhomology-changing thresholds. In particular, we show that the giant cycle\\nerasure threshold $p_E^0$ (related to the conventional erasure threshold for\\nthe corresponding sequence of generalized toric codes) coincides with the edge\\npercolation threshold $p_{rm c}(\\\\mathcal{H})$ if the ratio $d_t/\\\\ln n_t$\\ndiverges, where $n_t$ is the number of edges of $\\\\mathcal{G}_t$, and we give\\nevidence that $p_E^0<p_{rm c}(\\\\mathcal{H})$ in several cases where this ratio\\nremains bounded, which is necessarily the case if $\\\\mathcal{H}$ is\\nnon-amenable.'"
      ]
     },
     "execution_count": 26,
     "metadata": {},
     "output_type": "execute_result"
    }
   ],
   "source": [
    "articles = get_arxivarticles(query=\"\", id_list=\"2011.02603v1\")\n",
    "articles[0].summary"
   ]
  },
  {
   "cell_type": "code",
   "execution_count": 27,
   "metadata": {},
   "outputs": [
    {
     "data": {
      "text/plain": [
       "True"
      ]
     },
     "execution_count": 27,
     "metadata": {},
     "output_type": "execute_result"
    }
   ],
   "source": [
    "articles = get_arxivarticles(query=\"\", id_list=\"2011.07246v1\", ensure_latex=True)\n",
    "\"_{\\\\mathcal{L}}\" in articles[0].summary"
   ]
  },
  {
   "cell_type": "code",
   "execution_count": 28,
   "metadata": {},
   "outputs": [
    {
     "data": {
      "text/plain": [
       "'Measuring the Majorana entropy $S_M=k_B\\\\log(2^\\\\frac{1}{2})$ may uniquely\\nreveal whether an initial equilibrium state of a nanoscale device is of\\nMajorana nature and subsequent operations deal with an essentially nonlocal\\npair of non-Abelian Majorana bound states and not with trivial or other\\naccidental non-Abelian states. However, in realistic setups both Majorana modes\\nare inevitably involved in tunneling processes. We show that even when the\\ntunneling amplitude of one Majorana mode is significantly suppressed, the\\nMajorana entropy ruins and straightforward experiments will in general detect\\nentropy $S\\\\ll S_M$. To avoid this general problem we present a mechanism of the\\nMajorana entropy revival via the tunneling phases of the Majorana modes and\\ndemonstrate that to successfully observe the universal Majorana plateau $S=S_M$\\none should intelligently tune the tunneling phases instead of leaving them\\nuncontrolled. Practical feasibility of appropriate Majorana entropy\\nmeasurements is supported by an example with parameters well achievable in\\nmodern labs.'"
      ]
     },
     "execution_count": 28,
     "metadata": {},
     "output_type": "execute_result"
    }
   ],
   "source": [
    "articles = get_arxivarticles(query=\"\", id_list=\"2011.08160v2\", ensure_latex=False)\n",
    "articles[0].summary"
   ]
  },
  {
   "cell_type": "code",
   "execution_count": 29,
   "metadata": {},
   "outputs": [
    {
     "data": {
      "text/plain": [
       "'\\\\\\\\textbf\\\\{\\\\}'"
      ]
     },
     "execution_count": 29,
     "metadata": {},
     "output_type": "execute_result"
    }
   ],
   "source": [
    "import re\n",
    "re.escape(\"\\\\textbf{}\")"
   ]
  },
  {
   "cell_type": "code",
   "execution_count": 19,
   "metadata": {},
   "outputs": [
    {
     "data": {
      "text/plain": [
       "'Thermodynamic uncertainty relations unveil useful connections between\\nfluctuations in thermal systems and entropy production. This letter extends\\nthese ideas to the disparate field of zero temperature quantum mesoscopic\\nphysics where fluctuations are due to coherent effects and entropy production\\nis replaced by a cost function defined using a novel disorder reversal\\noperator. A simple expression is obtained for the average cost function, which\\ndepends on the dimensionless conductance $g_{\\\\mathcal{L}}$ and on a geometrical\\nfactor $\\\\mathcal{B}$ controlled by boundary conditions. Contrary to\\nthermodynamic machines aimed at minimising fluctuations to increase precision,\\nit is desirable in mesoscopic devices to increase coherent effects. The cost\\nfunction indicates that increasing coherent effects can be achieved by playing\\nwith the geometry and boundary conditions through $\\\\mathcal{B}$ and not only by\\ndecreasing the bulk conductance $g_{\\\\mathcal{L}}$.'"
      ]
     },
     "execution_count": 19,
     "metadata": {},
     "output_type": "execute_result"
    }
   ],
   "source": [
    "re.sub(\"([\\\\^_])(\\\\\\\\[^\\\\{\\s]+)(\\w|\\\\{[^\\\\}]+\\\\})\", \"\\\\1{\\\\2\\\\3}\", articles[0].summary)"
   ]
  },
  {
   "cell_type": "code",
   "execution_count": 9,
   "metadata": {},
   "outputs": [
    {
     "data": {
      "text/plain": [
       "'\\\\{\\\\}'"
      ]
     },
     "execution_count": 9,
     "metadata": {},
     "output_type": "execute_result"
    }
   ],
   "source": [
    "re.escape(\"{}\")"
   ]
  },
  {
   "cell_type": "code",
   "execution_count": 1,
   "metadata": {},
   "outputs": [
    {
     "ename": "SyntaxError",
     "evalue": "unexpected character after line continuation character (<ipython-input-1-5765b2abc934>, line 1)",
     "output_type": "error",
     "traceback": [
      "\u001b[0;36m  File \u001b[0;32m\"<ipython-input-1-5765b2abc934>\"\u001b[0;36m, line \u001b[0;32m1\u001b[0m\n\u001b[0;31m    (\\w|\\\\{[^\\\\}]+\\\\})\u001b[0m\n\u001b[0m                      ^\u001b[0m\n\u001b[0;31mSyntaxError\u001b[0m\u001b[0;31m:\u001b[0m unexpected character after line continuation character\n"
     ]
    }
   ],
   "source": [
    "(\\w|\\\\{[^\\\\}]+\\\\})"
   ]
  },
  {
   "cell_type": "code",
   "execution_count": 14,
   "metadata": {},
   "outputs": [
    {
     "data": {
      "text/plain": [
       "True"
      ]
     },
     "execution_count": 14,
     "metadata": {},
     "output_type": "execute_result"
    }
   ],
   "source": [
    "# http://link.aps.org/doi/10.1103/PhysRevA.102.062805\n",
    "from LaTeX import elc\n",
    "\"^{{2}{1}}\" in elc(\"\"\"We calculate and measure the magic wavelengths for the $6{s}^{2}^{1}S_{0}−6s6pphantom{rule{0.16em}{0ex}}^{3}P_{1}$ intercombination transition of the neutral ytterbi:\"\"\")"
   ]
  },
  {
   "cell_type": "code",
   "execution_count": null,
   "metadata": {},
   "outputs": [],
   "source": []
  },
  {
   "cell_type": "code",
   "execution_count": null,
   "metadata": {},
   "outputs": [],
   "source": []
  }
 ],
 "metadata": {
  "kernelspec": {
   "display_name": "Python 3",
   "language": "python",
   "name": "python3"
  },
  "language_info": {
   "codemirror_mode": {
    "name": "ipython",
    "version": 3
   },
   "file_extension": ".py",
   "mimetype": "text/x-python",
   "name": "python",
   "nbconvert_exporter": "python",
   "pygments_lexer": "ipython3",
   "version": "3.8.6"
  }
 },
 "nbformat": 4,
 "nbformat_minor": 4
}
