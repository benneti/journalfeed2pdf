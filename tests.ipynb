{
 "cells": [
  {
   "cell_type": "code",
   "execution_count": 1,
   "metadata": {},
   "outputs": [],
   "source": [
    "from getcontent import *\n",
    "from LaTeX import *\n",
    "import datetime\n",
    "# articles = get_prarticles(journals=[\"prxquantum\"])\n",
    "# len(articles)"
   ]
  },
  {
   "cell_type": "code",
   "execution_count": 2,
   "metadata": {},
   "outputs": [],
   "source": []
  },
  {
   "cell_type": "code",
   "execution_count": 4,
   "metadata": {},
   "outputs": [
    {
     "data": {
      "text/plain": [
       "0"
      ]
     },
     "execution_count": 4,
     "metadata": {},
     "output_type": "execute_result"
    }
   ],
   "source": []
  },
  {
   "cell_type": "code",
   "execution_count": 3,
   "metadata": {},
   "outputs": [
    {
     "data": {
      "text/plain": [
       "datetime.date(2020, 12, 16)"
      ]
     },
     "execution_count": 3,
     "metadata": {},
     "output_type": "execute_result"
    }
   ],
   "source": []
  },
  {
   "cell_type": "code",
   "execution_count": 3,
   "metadata": {},
   "outputs": [
    {
     "data": {
      "text/plain": [
       "'We consider momentum dependence of static magnetic susceptibility of\\nHeisenberg magnets within nonlinear sigma model in arbitrary dimension $2<d<4$\\nto first order of $1/N$ expansion, where $N$ is the number of spin components.\\nWe show that the momentum dependence of the susceptibility in paramagnetic\\nphase has the form $\\\\chi(q)\\\\propto[q^{2}+\\\\xi ^{-2}(1+f(q\\\\xi ))]^{-1+\\\\eta /2}$\\nwhere $\\\\xi $ is the correlation length, $q$ is the momenum, measured from\\nmagnetic wave vector, and the universal function $f(x)\\\\propto 1/N$ describes\\ndeviation from the standard Landau-Ginzburg momentum dependence. At large $x$\\nwe find $f(x\\\\gg 1)\\\\simeq (2B_{4}/N)x^{4-d}$ (apart from the trivial quadratic\\nin $x$ term), for $d=3$ the coefficient $B_{4}=-2/\\\\pi $. We obtain the\\ncontribution of the \"anomalous\" term $\\\\xi^{-2}f(q\\\\xi )$ to the critical\\nexponent $\\\\nu $, comparing it to the contribution of the non-analytical\\ndependence, originating from the presence of the critical exponent $\\\\eta $ (the\\nobtained critical exponents $\\\\nu $ and $\\\\eta $ agree with previous studies). In\\nthe range $3\\\\leq d<4$ we find that the former contribution dominates, and fully\\ndetermines $1/N$ correction to the critical exponent $\\\\nu $ in the limit $\\\\% darrow 4.$'"
      ]
     },
     "execution_count": 3,
     "metadata": {},
     "output_type": "execute_result"
    }
   ],
   "source": [
    "articles = get_arxivarticles(query=\"\", id_list=\"2012.11853v1\", ensure_latex=True)\n",
    "articles[0].summary\n",
    "# TODO fix %\\n in here"
   ]
  },
  {
   "cell_type": "code",
   "execution_count": 4,
   "metadata": {},
   "outputs": [
    {
     "data": {
      "text/plain": [
       "True"
      ]
     },
     "execution_count": 4,
     "metadata": {},
     "output_type": "execute_result"
    }
   ],
   "source": [
    "articles = get_arxivarticles(query=\"\", id_list=\"2012.05392v1\", ensure_latex=True)\n",
    "\"$T_{\\\\mathrm{N1}}$\" in articles[0].summary"
   ]
  },
  {
   "cell_type": "code",
   "execution_count": 5,
   "metadata": {},
   "outputs": [
    {
     "data": {
      "text/plain": [
       "True"
      ]
     },
     "execution_count": 5,
     "metadata": {},
     "output_type": "execute_result"
    }
   ],
   "source": [
    "articles = get_arxivarticles(query=\"\", id_list=\"2012.05930v1\", ensure_latex=True)\n",
    "\"$\\\\frac{J_z}{J_{\\\\perp}}=-\\\\frac{1}{2}$\" in articles[0].summary"
   ]
  },
  {
   "cell_type": "code",
   "execution_count": 6,
   "metadata": {},
   "outputs": [
    {
     "data": {
      "text/plain": [
       "True"
      ]
     },
     "execution_count": 6,
     "metadata": {},
     "output_type": "execute_result"
    }
   ],
   "source": [
    "articles = get_arxivarticles(query=\"\", id_list=\"2010.15264\")\n",
    "\"\\\\cdot \\\\text\" in articles[0].summary"
   ]
  },
  {
   "cell_type": "code",
   "execution_count": 7,
   "metadata": {},
   "outputs": [],
   "source": [
    "# from bs4 import BeautifulSoup  # used to get rid of HTML stuff\n",
    "# prarticles = get_prarticles(journals = [\"prb\"], ensure_latex=False)"
   ]
  },
  {
   "cell_type": "code",
   "execution_count": 8,
   "metadata": {},
   "outputs": [
    {
     "data": {
      "text/plain": [
       "True"
      ]
     },
     "execution_count": 8,
     "metadata": {},
     "output_type": "execute_result"
    }
   ],
   "source": [
    "s = \"\"\"We present a theory for quantum impurity relaxometry of magnons in thin films, exhibiting quantitative agreement with recent experiments without needing arbitrary scale factors used in theoretical models thus far. Our theory reveals that chiral coupling between prototypical $\\\\text{spin}&gt;1/2$ quan...\"\"\"\n",
    "\" $\\\\text{spin}>1/2$\" in elc(s)"
   ]
  },
  {
   "cell_type": "code",
   "execution_count": 9,
   "metadata": {},
   "outputs": [
    {
     "data": {
      "text/plain": [
       "True"
      ]
     },
     "execution_count": 9,
     "metadata": {},
     "output_type": "execute_result"
    }
   ],
   "source": [
    "articles = get_arxivarticles(query=\"\", id_list=\"2010.14097\")\n",
    "\"\\\\xi \\\\sim\" in articles[0].summary"
   ]
  },
  {
   "cell_type": "code",
   "execution_count": 10,
   "metadata": {},
   "outputs": [
    {
     "data": {
      "text/plain": [
       "True"
      ]
     },
     "execution_count": 10,
     "metadata": {},
     "output_type": "execute_result"
    }
   ],
   "source": [
    "articles = get_arxivarticles(query=\"\", id_list=\"2010.15589v1\")\n",
    "\"\\\\lambda=\" in articles[0].summary and \"\\\\hbar \\\\omega\" in articles[0].summary and \"\\\\mathbf{r}\" in articles[0].summary"
   ]
  },
  {
   "cell_type": "code",
   "execution_count": 11,
   "metadata": {},
   "outputs": [
    {
     "data": {
      "text/plain": [
       "True"
      ]
     },
     "execution_count": 11,
     "metadata": {},
     "output_type": "execute_result"
    }
   ],
   "source": [
    "articles = get_arxivarticles(query=\"\", id_list=\"2011.03015v1\")\n",
    "\"\\\\simeq 152\" in articles[0].summary"
   ]
  },
  {
   "cell_type": "code",
   "execution_count": 12,
   "metadata": {},
   "outputs": [
    {
     "data": {
      "text/plain": [
       "True"
      ]
     },
     "execution_count": 12,
     "metadata": {},
     "output_type": "execute_result"
    }
   ],
   "source": [
    "articles = get_arxivarticles(query=\"\", id_list=\"2011.02114v1\")\n",
    "\"\\\\mathcal{PT}\" in articles[0].summary"
   ]
  },
  {
   "cell_type": "code",
   "execution_count": 13,
   "metadata": {},
   "outputs": [
    {
     "data": {
      "text/plain": [
       "True"
      ]
     },
     "execution_count": 13,
     "metadata": {},
     "output_type": "execute_result"
    }
   ],
   "source": [
    "articles = get_arxivarticles(query=\"\", id_list=\"2011.01389v1\")\n",
    "\"${M}{N}$\" in articles[0].title"
   ]
  },
  {
   "cell_type": "code",
   "execution_count": 14,
   "metadata": {},
   "outputs": [
    {
     "data": {
      "text/plain": [
       "'Soon after its theoretical prediction, striped-density states in the presence\\nof synthetic spin-orbit coupling have been realized in Bose-Einstein\\ncondensates of ultracold, neutral atoms. The achievement opens up new avenues\\nto explore the interplay of superfluidity and crystalline order in the search\\nfor supersolid features and materials. The system considered is essentially\\nmade of two linearly coupled Bose-Einstein condensates, that is a\\npseudo-spin-$1/2$ system, subject to a spin-dependent gauge field $\\\\sigma_z\\n\\\\hbar k_\\\\ell$. Under these conditions the stripe phase is achieved when the\\nlinear coupling $\\\\hbar\\\\Omega/2$ is small against the gauge energy\\n$m\\\\Omega/\\\\hbar k_\\\\ell^2<1$. The resulting density stripes have been interpreted\\nas a standing-wave, interference pattern with approximate wavenumber $2k_\\\\ell$.\\nHere, we show that the emergence of the stripe phase is induced by an array of\\nJosephson vortices living in the junction defined by the linear coupling. As\\nhappens in superconducting junctions subject to external magnetic fields, a\\nvortex array is the natural response of the superfluid system to the presence\\nof a gauge field. Also similarly to superconductors, the Josephson currents and\\ntheir associated vortices can be present as a metastable state in the absence\\nof gauge field. We provide closed-form solutions to the 1D mean field equations\\nthat account for such vortex arrays. The underlying Josephson currents coincide\\nwith the analytical solutions to the sine-Gordon equation for the relative\\nphase of superconducting junctions. Additionally, we introduce new\\nstriped-density states that do not rely on particle currents, and are built\\nupon staggered arrays of bright solitons, despite the repulsive interatomic\\ninteractions.'"
      ]
     },
     "execution_count": 14,
     "metadata": {},
     "output_type": "execute_result"
    }
   ],
   "source": [
    "articles = get_arxivarticles(query=\"\", id_list=\"2011.00478v1\", ensure_latex=False)\n",
    "articles[0].summary"
   ]
  },
  {
   "cell_type": "code",
   "execution_count": 15,
   "metadata": {},
   "outputs": [
    {
     "data": {
      "text/plain": [
       "\"High fidelity two-qubit gates are fundamental for scaling up the\\nsuperconducting number. We use two qubits coupled via a frequency-tunable\\ncoupler which can adjust the coupling strength, and demonstrate the CZ gate\\nusing two different schemes, adiabatic and diadiabatic methods. The Clifford\\nbased Randomized Benchmarking (RB) method is used to assess and optimize the CZ\\ngate fidelity. The fidelity of adiabatic and diadiabatic CZ gates are 99.53(8)\\\\%\\nand 98.72(2)\\\\%, respectively. We also analyze the errors induced by the\\ndecoherence. Comparing to 30 ns duration time of adiabatic CZ gate, the\\nduration time of diadiabatic CZ gate is 19 ns, revealing lower incoherence\\nerror rate $r'_{rm{incoherent, int}}$ = 0.0197(5) than $r_{rm{incoherent, int}}$ = 0.0223(3).\""
      ]
     },
     "execution_count": 15,
     "metadata": {},
     "output_type": "execute_result"
    }
   ],
   "source": [
    "articles = get_arxivarticles(query=\"\", id_list=\"2010.14053v3\")\n",
    "articles[0].summary"
   ]
  },
  {
   "cell_type": "code",
   "execution_count": 16,
   "metadata": {},
   "outputs": [
    {
     "data": {
      "text/plain": [
       "True"
      ]
     },
     "execution_count": 16,
     "metadata": {},
     "output_type": "execute_result"
    }
   ],
   "source": [
    "articles = get_arxivarticles(query=\"\", id_list=\"2011.00478v1\")\n",
    "\"m\\\\Omega /\\\\hbar\" in articles[0].summary and \"k_{\\\\ell}^2\" in articles[0].summary"
   ]
  },
  {
   "cell_type": "code",
   "execution_count": 17,
   "metadata": {},
   "outputs": [
    {
     "data": {
      "text/plain": [
       "'We consider homological edge percolation on a sequence $(\\\\mathcal{G}_t)_t$ of\\nfinite graphs covered by an infinite (quasi)transitive graph $\\\\mathcal{H}$, and\\nweakly convergent to $\\\\mathcal{H}$. Namely, we use the covering maps to\\nclassify $1$-cycles on graphs $\\\\mathcal{G}_t$ as homologically trivial or\\nnon-trivial, and define several thresholds associated with the rank of thus\\ndefined first homology group on the open subgraphs. We identify the growth of\\nthe homological distance $d_t$, the smallest size of a non-trivial cycle on\\n$\\\\mathcal{G}_t$, as the main factor determining the location of\\nhomology-changing thresholds. In particular, we show that the giant cycle\\nerasure threshold $p_E^0$ (related to the conventional erasure threshold for\\nthe corresponding sequence of generalized toric codes) coincides with the edge\\npercolation threshold $p_{rm c}(\\\\mathcal{H})$ if the ratio $d_t/\\\\ln n_t$\\ndiverges, where $n_t$ is the number of edges of $\\\\mathcal{G}_t$, and we give\\nevidence that $p_E^0<p_{rm c}(\\\\mathcal{H})$ in several cases where this ratio\\nremains bounded, which is necessarily the case if $\\\\mathcal{H}$ is\\nnon-amenable.'"
      ]
     },
     "execution_count": 17,
     "metadata": {},
     "output_type": "execute_result"
    }
   ],
   "source": [
    "articles = get_arxivarticles(query=\"\", id_list=\"2011.02603v1\")\n",
    "articles[0].summary"
   ]
  },
  {
   "cell_type": "code",
   "execution_count": 18,
   "metadata": {},
   "outputs": [
    {
     "data": {
      "text/plain": [
       "'We consider homological edge percolation on a sequence $(\\\\mathcal{G}_t)_t$ of\\nfinite graphs covered by an infinite (quasi)transitive graph $\\\\mathcal{H}$, and\\nweakly convergent to $\\\\mathcal{H}$. Namely, we use the covering maps to\\nclassify $1$-cycles on graphs $\\\\mathcal{G}_t$ as homologically trivial or\\nnon-trivial, and define several thresholds associated with the rank of thus\\ndefined first homology group on the open subgraphs. We identify the growth of\\nthe homological distance $d_t$, the smallest size of a non-trivial cycle on\\n$\\\\mathcal{G}_t$, as the main factor determining the location of\\nhomology-changing thresholds. In particular, we show that the giant cycle\\nerasure threshold $p_E^0$ (related to the conventional erasure threshold for\\nthe corresponding sequence of generalized toric codes) coincides with the edge\\npercolation threshold $p_{rm c}(\\\\mathcal{H})$ if the ratio $d_t/\\\\ln n_t$\\ndiverges, where $n_t$ is the number of edges of $\\\\mathcal{G}_t$, and we give\\nevidence that $p_E^0<p_{rm c}(\\\\mathcal{H})$ in several cases where this ratio\\nremains bounded, which is necessarily the case if $\\\\mathcal{H}$ is\\nnon-amenable.'"
      ]
     },
     "execution_count": 18,
     "metadata": {},
     "output_type": "execute_result"
    }
   ],
   "source": [
    "articles = get_arxivarticles(query=\"\", id_list=\"2011.02603v1\")\n",
    "articles[0].summary"
   ]
  },
  {
   "cell_type": "code",
   "execution_count": 19,
   "metadata": {},
   "outputs": [
    {
     "data": {
      "text/plain": [
       "True"
      ]
     },
     "execution_count": 19,
     "metadata": {},
     "output_type": "execute_result"
    }
   ],
   "source": [
    "articles = get_arxivarticles(query=\"\", id_list=\"2011.07246v1\", ensure_latex=True)\n",
    "\"_{\\\\mathcal{L}}\" in articles[0].summary"
   ]
  },
  {
   "cell_type": "code",
   "execution_count": 20,
   "metadata": {},
   "outputs": [
    {
     "data": {
      "text/plain": [
       "'Measuring the Majorana entropy $S_M=k_B\\\\log(2^\\\\frac{1}{2})$ may uniquely\\nreveal whether an initial equilibrium state of a nanoscale device is of\\nMajorana nature and subsequent operations deal with an essentially nonlocal\\npair of non-Abelian Majorana bound states and not with trivial or other\\naccidental non-Abelian states. However, in realistic setups both Majorana modes\\nare inevitably involved in tunneling processes. We show that even when the\\ntunneling amplitude of one Majorana mode is significantly suppressed, the\\nMajorana entropy ruins and straightforward experiments will in general detect\\nentropy $S\\\\ll S_M$. To avoid this general problem we present a mechanism of the\\nMajorana entropy revival via the tunneling phases of the Majorana modes and\\ndemonstrate that to successfully observe the universal Majorana plateau $S=S_M$\\none should intelligently tune the tunneling phases instead of leaving them\\nuncontrolled. Practical feasibility of appropriate Majorana entropy\\nmeasurements is supported by an example with parameters well achievable in\\nmodern labs.'"
      ]
     },
     "execution_count": 20,
     "metadata": {},
     "output_type": "execute_result"
    }
   ],
   "source": [
    "articles = get_arxivarticles(query=\"\", id_list=\"2011.08160v2\", ensure_latex=False)\n",
    "articles[0].summary"
   ]
  },
  {
   "cell_type": "code",
   "execution_count": 21,
   "metadata": {},
   "outputs": [
    {
     "data": {
      "text/plain": [
       "'\\\\\\\\textbf\\\\{\\\\}'"
      ]
     },
     "execution_count": 21,
     "metadata": {},
     "output_type": "execute_result"
    }
   ],
   "source": [
    "import re\n",
    "re.escape(\"\\\\textbf{}\")"
   ]
  },
  {
   "cell_type": "code",
   "execution_count": 19,
   "metadata": {},
   "outputs": [
    {
     "data": {
      "text/plain": [
       "'Thermodynamic uncertainty relations unveil useful connections between\\nfluctuations in thermal systems and entropy production. This letter extends\\nthese ideas to the disparate field of zero temperature quantum mesoscopic\\nphysics where fluctuations are due to coherent effects and entropy production\\nis replaced by a cost function defined using a novel disorder reversal\\noperator. A simple expression is obtained for the average cost function, which\\ndepends on the dimensionless conductance $g_{\\\\mathcal{L}}$ and on a geometrical\\nfactor $\\\\mathcal{B}$ controlled by boundary conditions. Contrary to\\nthermodynamic machines aimed at minimising fluctuations to increase precision,\\nit is desirable in mesoscopic devices to increase coherent effects. The cost\\nfunction indicates that increasing coherent effects can be achieved by playing\\nwith the geometry and boundary conditions through $\\\\mathcal{B}$ and not only by\\ndecreasing the bulk conductance $g_{\\\\mathcal{L}}$.'"
      ]
     },
     "execution_count": 19,
     "metadata": {},
     "output_type": "execute_result"
    }
   ],
   "source": [
    "re.sub(\"([\\\\^_])(\\\\\\\\[^\\\\{\\s]+)(\\w|\\\\{[^\\\\}]+\\\\})\", \"\\\\1{\\\\2\\\\3}\", articles[0].summary)"
   ]
  },
  {
   "cell_type": "code",
   "execution_count": 9,
   "metadata": {},
   "outputs": [
    {
     "data": {
      "text/plain": [
       "'\\\\{\\\\}'"
      ]
     },
     "execution_count": 9,
     "metadata": {},
     "output_type": "execute_result"
    }
   ],
   "source": [
    "re.escape(\"{}\")"
   ]
  },
  {
   "cell_type": "code",
   "execution_count": 1,
   "metadata": {},
   "outputs": [
    {
     "ename": "SyntaxError",
     "evalue": "unexpected character after line continuation character (<ipython-input-1-5765b2abc934>, line 1)",
     "output_type": "error",
     "traceback": [
      "\u001b[0;36m  File \u001b[0;32m\"<ipython-input-1-5765b2abc934>\"\u001b[0;36m, line \u001b[0;32m1\u001b[0m\n\u001b[0;31m    (\\w|\\\\{[^\\\\}]+\\\\})\u001b[0m\n\u001b[0m                      ^\u001b[0m\n\u001b[0;31mSyntaxError\u001b[0m\u001b[0;31m:\u001b[0m unexpected character after line continuation character\n"
     ]
    }
   ],
   "source": [
    "(\\w|\\\\{[^\\\\}]+\\\\})"
   ]
  },
  {
   "cell_type": "code",
   "execution_count": 14,
   "metadata": {},
   "outputs": [
    {
     "data": {
      "text/plain": [
       "True"
      ]
     },
     "execution_count": 14,
     "metadata": {},
     "output_type": "execute_result"
    }
   ],
   "source": [
    "# http://link.aps.org/doi/10.1103/PhysRevA.102.062805\n",
    "from LaTeX import elc\n",
    "\"^{{2}{1}}\" in elc(\"\"\"We calculate and measure the magic wavelengths for the $6{s}^{2}^{1}S_{0}−6s6pphantom{rule{0.16em}{0ex}}^{3}P_{1}$ intercombination transition of the neutral ytterbi:\"\"\")"
   ]
  },
  {
   "cell_type": "code",
   "execution_count": null,
   "metadata": {},
   "outputs": [],
   "source": []
  },
  {
   "cell_type": "code",
   "execution_count": null,
   "metadata": {},
   "outputs": [],
   "source": []
  }
 ],
 "metadata": {
  "kernelspec": {
   "display_name": "Python 3",
   "language": "python",
   "name": "python3"
  },
  "language_info": {
   "codemirror_mode": {
    "name": "ipython",
    "version": 3
   },
   "file_extension": ".py",
   "mimetype": "text/x-python",
   "name": "python",
   "nbconvert_exporter": "python",
   "pygments_lexer": "ipython3",
   "version": "3.9.1"
  }
 },
 "nbformat": 4,
 "nbformat_minor": 4
}
