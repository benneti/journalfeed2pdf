{
 "cells": [
  {
   "cell_type": "code",
   "execution_count": 1,
   "metadata": {},
   "outputs": [],
   "source": [
    "from getcontent import *"
   ]
  },
  {
   "cell_type": "code",
   "execution_count": 2,
   "metadata": {},
   "outputs": [
    {
     "data": {
      "text/plain": [
       "True"
      ]
     },
     "execution_count": 2,
     "metadata": {},
     "output_type": "execute_result"
    }
   ],
   "source": [
    "articles = get_arxivarticles(query=\"\", id_list=\"2010.15264\")\n",
    "\"\\\\cdot \\\\text\" in articles[0].summary"
   ]
  },
  {
   "cell_type": "code",
   "execution_count": 3,
   "metadata": {},
   "outputs": [
    {
     "data": {
      "text/plain": [
       "True"
      ]
     },
     "execution_count": 3,
     "metadata": {},
     "output_type": "execute_result"
    }
   ],
   "source": [
    "articles = get_arxivarticles(query=\"\", id_list=\"2010.14097\")\n",
    "\"\\\\xi \\\\sim\" in articles[0].summary"
   ]
  },
  {
   "cell_type": "code",
   "execution_count": 4,
   "metadata": {},
   "outputs": [],
   "source": [
    "from getcontent import *\n",
    "articles = get_arxivarticles(query=\"\", id_list=\"2010.15589v1\")\n",
    "# \"\\\\lambda=\" in articles[0].summary and \"\\\\hbar \\\\omega\" in articles[0].summary"
   ]
  },
  {
   "cell_type": "code",
   "execution_count": 5,
   "metadata": {},
   "outputs": [
    {
     "data": {
      "text/plain": [
       "'In this paper I explain how I usually introduce the Schrödinger equation\\nduring the quantum mechanics course. My preferred method is the chronological\\none. Since the Schrödinger equation belongs to a special case of wave\\nequations I start the course with introducing the wave equation. The\\nSchrödinger equation is derived with the help of the two quantum concepts\\nintroduced by Max Planck, Einstein, and de Broglie, i.e., the energy of a\\nphoton $E=\\\\hbar \\\\omega$ and the wavelength of the de Broglie wave $\\\\lambda=h/p$.\\nFinally, the difference between the classical wave equation and the quantum\\nSchrödinger one is explained in order to help the students to grasp the\\nmeaning of quantum wavefunction $\\\\Psi(\\\\mathbf{ r},t)$. A comparison of the present\\nmethod to the approaches given by the authors of quantum mechanics textbooks as\\nwell as that of the original Nuffield A level is presented. It is found that\\nthe present approach is different from those given by these authors, except by\\nWeinberg or Dicke and Wittke. However, the approach is in line with the\\noriginal Nuffield A level one.'"
      ]
     },
     "execution_count": 5,
     "metadata": {},
     "output_type": "execute_result"
    }
   ],
   "source": [
    "articles[0].summary"
   ]
  },
  {
   "cell_type": "code",
   "execution_count": 12,
   "metadata": {},
   "outputs": [
    {
     "data": {
      "text/plain": [
       "'\\\\\\\\textbf\\\\{\\\\}'"
      ]
     },
     "execution_count": 12,
     "metadata": {},
     "output_type": "execute_result"
    }
   ],
   "source": [
    "import re\n",
    "re.escape(\"\\\\textbf{}\")"
   ]
  },
  {
   "cell_type": "code",
   "execution_count": null,
   "metadata": {},
   "outputs": [],
   "source": []
  }
 ],
 "metadata": {
  "kernelspec": {
   "display_name": "Python 3",
   "language": "python",
   "name": "python3"
  },
  "language_info": {
   "codemirror_mode": {
    "name": "ipython",
    "version": 3
   },
   "file_extension": ".py",
   "mimetype": "text/x-python",
   "name": "python",
   "nbconvert_exporter": "python",
   "pygments_lexer": "ipython3",
   "version": "3.8.6"
  }
 },
 "nbformat": 4,
 "nbformat_minor": 4
}
