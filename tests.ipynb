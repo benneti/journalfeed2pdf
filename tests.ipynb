{
 "cells": [
  {
   "cell_type": "code",
   "execution_count": 1,
   "metadata": {},
   "outputs": [],
   "source": [
    "from getcontent import *"
   ]
  },
  {
   "cell_type": "code",
   "execution_count": 2,
   "metadata": {},
   "outputs": [
    {
     "data": {
      "text/plain": [
       "True"
      ]
     },
     "execution_count": 2,
     "metadata": {},
     "output_type": "execute_result"
    }
   ],
   "source": [
    "articles = get_arxivarticles(query=\"\", id_list=\"2010.15264\")\n",
    "\"\\\\cdot \\\\text\" in articles[0].summary"
   ]
  },
  {
   "cell_type": "code",
   "execution_count": 3,
   "metadata": {},
   "outputs": [
    {
     "data": {
      "text/plain": [
       "True"
      ]
     },
     "execution_count": 3,
     "metadata": {},
     "output_type": "execute_result"
    }
   ],
   "source": [
    "articles = get_arxivarticles(query=\"\", id_list=\"2010.14097\")\n",
    "\"\\\\xi \\\\sim\" in articles[0].summary"
   ]
  },
  {
   "cell_type": "code",
   "execution_count": 4,
   "metadata": {},
   "outputs": [
    {
     "data": {
      "text/plain": [
       "True"
      ]
     },
     "execution_count": 4,
     "metadata": {},
     "output_type": "execute_result"
    }
   ],
   "source": [
    "articles = get_arxivarticles(query=\"\", id_list=\"2010.15589v1\")\n",
    "\"\\\\lambda=\" in articles[0].summary and \"\\\\hbar \\\\omega\" in articles[0].summary and \"\\\\mathbf{r}\" in articles[0].summary"
   ]
  },
  {
   "cell_type": "code",
   "execution_count": 5,
   "metadata": {},
   "outputs": [
    {
     "data": {
      "text/plain": [
       "True"
      ]
     },
     "execution_count": 5,
     "metadata": {},
     "output_type": "execute_result"
    }
   ],
   "source": [
    "articles = get_arxivarticles(query=\"\", id_list=\"2011.03015v1\")\n",
    "\"\\\\simeq 152\" in articles[0].summary"
   ]
  },
  {
   "cell_type": "code",
   "execution_count": 7,
   "metadata": {},
   "outputs": [
    {
     "data": {
      "text/plain": [
       "True"
      ]
     },
     "execution_count": 7,
     "metadata": {},
     "output_type": "execute_result"
    }
   ],
   "source": [
    "articles = get_arxivarticles(query=\"\", id_list=\"2011.02114v1\")\n",
    "\"\\\\mathcal{PT}\" in articles[0].summary"
   ]
  },
  {
   "cell_type": "code",
   "execution_count": 4,
   "metadata": {},
   "outputs": [
    {
     "data": {
      "text/plain": [
       "True"
      ]
     },
     "execution_count": 4,
     "metadata": {},
     "output_type": "execute_result"
    }
   ],
   "source": [
    "articles = get_arxivarticles(query=\"\", id_list=\"2011.01389v1\")\n",
    "\"${M}{N}$\" in articles[0].title"
   ]
  },
  {
   "cell_type": "code",
   "execution_count": 2,
   "metadata": {},
   "outputs": [
    {
     "data": {
      "text/plain": [
       "'Soon after its theoretical prediction, striped-density states in the presence\\nof synthetic spin-orbit coupling have been realized in Bose-Einstein\\ncondensates of ultracold, neutral atoms. The achievement opens up new avenues\\nto explore the interplay of superfluidity and crystalline order in the search\\nfor supersolid features and materials. The system considered is essentially\\nmade of two linearly coupled Bose-Einstein condensates, that is a\\npseudo-spin-$1/2$ system, subject to a spin-dependent gauge field $\\\\sigma_z\\n\\\\hbar k_\\\\ell$. Under these conditions the stripe phase is achieved when the\\nlinear coupling $\\\\hbar\\\\Omega/2$ is small against the gauge energy\\n$m\\\\Omega/\\\\hbar k_\\\\ell^2<1$. The resulting density stripes have been interpreted\\nas a standing-wave, interference pattern with approximate wavenumber $2k_\\\\ell$.\\nHere, we show that the emergence of the stripe phase is induced by an array of\\nJosephson vortices living in the junction defined by the linear coupling. As\\nhappens in superconducting junctions subject to external magnetic fields, a\\nvortex array is the natural response of the superfluid system to the presence\\nof a gauge field. Also similarly to superconductors, the Josephson currents and\\ntheir associated vortices can be present as a metastable state in the absence\\nof gauge field. We provide closed-form solutions to the 1D mean field equations\\nthat account for such vortex arrays. The underlying Josephson currents coincide\\nwith the analytical solutions to the sine-Gordon equation for the relative\\nphase of superconducting junctions. Additionally, we introduce new\\nstriped-density states that do not rely on particle currents, and are built\\nupon staggered arrays of bright solitons, despite the repulsive interatomic\\ninteractions.'"
      ]
     },
     "execution_count": 2,
     "metadata": {},
     "output_type": "execute_result"
    }
   ],
   "source": [
    "articles = get_arxivarticles(query=\"\", id_list=\"2011.00478v1\", ensure_latex=False)\n",
    "articles[0].summary"
   ]
  },
  {
   "cell_type": "code",
   "execution_count": 3,
   "metadata": {},
   "outputs": [
    {
     "data": {
      "text/plain": [
       "\"High fidelity two-qubit gates are fundamental for scaling up the\\nsuperconducting number. We use two qubits coupled via a frequency-tunable\\ncoupler which can adjust the coupling strength, and demonstrate the CZ gate\\nusing two different schemes, adiabatic and diadiabatic methods. The Clifford\\nbased Randomized Benchmarking (RB) method is used to assess and optimize the CZ\\ngate fidelity. The fidelity of adiabatic and diadiabatic CZ gates are 99.53(8)\\\\%\\nand 98.72(2)\\\\%, respectively. We also analyze the errors induced by the\\ndecoherence. Comparing to 30 ns duration time of adiabatic CZ gate, the\\nduration time of diadiabatic CZ gate is 19 ns, revealing lower incoherence\\nerror rate $r'_{rm{incoherent, int}}$ = 0.0197(5) than $r_{rm{incoherent, int}}$ = 0.0223(3).\""
      ]
     },
     "execution_count": 3,
     "metadata": {},
     "output_type": "execute_result"
    }
   ],
   "source": [
    "articles = get_arxivarticles(query=\"\", id_list=\"2010.14053v3\")\n",
    "articles[0].summary"
   ]
  },
  {
   "cell_type": "code",
   "execution_count": 2,
   "metadata": {},
   "outputs": [
    {
     "data": {
      "text/plain": [
       "True"
      ]
     },
     "execution_count": 2,
     "metadata": {},
     "output_type": "execute_result"
    }
   ],
   "source": [
    "articles = get_arxivarticles(query=\"\", id_list=\"2011.00478v1\")\n",
    "\"m\\\\Omega /\\\\hbar\" in articles[0].summary and \"k_\\\\ell^2\" in articles[0].summary"
   ]
  },
  {
   "cell_type": "code",
   "execution_count": 4,
   "metadata": {},
   "outputs": [
    {
     "data": {
      "text/plain": [
       "'\\\\\\\\textbf\\\\{\\\\}'"
      ]
     },
     "execution_count": 4,
     "metadata": {},
     "output_type": "execute_result"
    }
   ],
   "source": [
    "import re\n",
    "re.escape(\"\\\\textbf{}\")"
   ]
  },
  {
   "cell_type": "code",
   "execution_count": null,
   "metadata": {},
   "outputs": [],
   "source": []
  },
  {
   "cell_type": "code",
   "execution_count": 5,
   "metadata": {},
   "outputs": [
    {
     "data": {
      "text/plain": [
       "'/'"
      ]
     },
     "execution_count": 5,
     "metadata": {},
     "output_type": "execute_result"
    }
   ],
   "source": [
    "re.escape(\"/\")"
   ]
  },
  {
   "cell_type": "code",
   "execution_count": null,
   "metadata": {},
   "outputs": [],
   "source": []
  }
 ],
 "metadata": {
  "kernelspec": {
   "display_name": "Python 3",
   "language": "python",
   "name": "python3"
  },
  "language_info": {
   "codemirror_mode": {
    "name": "ipython",
    "version": 3
   },
   "file_extension": ".py",
   "mimetype": "text/x-python",
   "name": "python",
   "nbconvert_exporter": "python",
   "pygments_lexer": "ipython3",
   "version": "3.8.6"
  }
 },
 "nbformat": 4,
 "nbformat_minor": 4
}
